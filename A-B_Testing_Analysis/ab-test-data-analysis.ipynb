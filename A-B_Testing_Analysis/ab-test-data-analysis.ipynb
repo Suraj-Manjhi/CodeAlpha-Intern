{
 "cells": [
  {
   "cell_type": "markdown",
   "id": "afaaea2a",
   "metadata": {
    "papermill": {
     "duration": 0.017844,
     "end_time": "2024-06-24T20:40:18.000386",
     "exception": false,
     "start_time": "2024-06-24T20:40:17.982542",
     "status": "completed"
    },
    "tags": []
   },
   "source": [
    "## Import Libraries"
   ]
  },
  {
   "cell_type": "code",
   "execution_count": 1,
   "id": "f8fc135b",
   "metadata": {
    "execution": {
     "iopub.execute_input": "2024-06-24T20:40:18.076865Z",
     "iopub.status.busy": "2024-06-24T20:40:18.075712Z",
     "iopub.status.idle": "2024-06-24T20:40:19.234894Z",
     "shell.execute_reply": "2024-06-24T20:40:19.233523Z"
    },
    "papermill": {
     "duration": 1.182429,
     "end_time": "2024-06-24T20:40:19.237903",
     "exception": false,
     "start_time": "2024-06-24T20:40:18.055474",
     "status": "completed"
    },
    "tags": []
   },
   "outputs": [
    {
     "name": "stderr",
     "output_type": "stream",
     "text": [
      "C:\\Users\\draj2\\anaconda3\\lib\\site-packages\\scipy\\__init__.py:146: UserWarning: A NumPy version >=1.16.5 and <1.23.0 is required for this version of SciPy (detected version 1.26.4\n",
      "  warnings.warn(f\"A NumPy version >={np_minversion} and <{np_maxversion}\"\n"
     ]
    }
   ],
   "source": [
    "import numpy as np\n",
    "import pandas as pd\n",
    "from scipy.stats import mannwhitneyu\n",
    "from scipy.stats import ttest_ind\n",
    "from scipy.stats import norm\n",
    "import matplotlib.pyplot as plt\n",
    "import seaborn as sns\n",
    "from tqdm.auto import tqdm\n",
    "import seaborn as sns\n",
    "from scipy.stats import pearsonr\n",
    "from scipy.stats import shapiro"
   ]
  },
  {
   "cell_type": "markdown",
   "id": "fbacfde6",
   "metadata": {},
   "source": [
    "## Load Dataset"
   ]
  },
  {
   "cell_type": "code",
   "execution_count": 2,
   "id": "de3dc0ae",
   "metadata": {
    "execution": {
     "iopub.execute_input": "2024-06-24T20:40:19.278776Z",
     "iopub.status.busy": "2024-06-24T20:40:19.278348Z",
     "iopub.status.idle": "2024-06-24T20:40:19.297504Z",
     "shell.execute_reply": "2024-06-24T20:40:19.296312Z"
    },
    "papermill": {
     "duration": 0.042353,
     "end_time": "2024-06-24T20:40:19.300254",
     "exception": false,
     "start_time": "2024-06-24T20:40:19.257901",
     "status": "completed"
    },
    "tags": []
   },
   "outputs": [],
   "source": [
    "df = pd.read_csv(r'C:\\Users\\draj2\\Downloads\\AB_Test_Results.csv')"
   ]
  },
  {
   "cell_type": "markdown",
   "id": "b9332b1e",
   "metadata": {},
   "source": [
    "## Dataset Check"
   ]
  },
  {
   "cell_type": "code",
   "execution_count": 3,
   "id": "1e97ea01",
   "metadata": {
    "execution": {
     "iopub.execute_input": "2024-06-24T20:40:19.377152Z",
     "iopub.status.busy": "2024-06-24T20:40:19.376734Z",
     "iopub.status.idle": "2024-06-24T20:40:19.398376Z",
     "shell.execute_reply": "2024-06-24T20:40:19.397147Z"
    },
    "papermill": {
     "duration": 0.0457,
     "end_time": "2024-06-24T20:40:19.401104",
     "exception": false,
     "start_time": "2024-06-24T20:40:19.355404",
     "status": "completed"
    },
    "tags": []
   },
   "outputs": [
    {
     "data": {
      "text/html": [
       "<div>\n",
       "<style scoped>\n",
       "    .dataframe tbody tr th:only-of-type {\n",
       "        vertical-align: middle;\n",
       "    }\n",
       "\n",
       "    .dataframe tbody tr th {\n",
       "        vertical-align: top;\n",
       "    }\n",
       "\n",
       "    .dataframe thead th {\n",
       "        text-align: right;\n",
       "    }\n",
       "</style>\n",
       "<table border=\"1\" class=\"dataframe\">\n",
       "  <thead>\n",
       "    <tr style=\"text-align: right;\">\n",
       "      <th></th>\n",
       "      <th>USER_ID</th>\n",
       "      <th>VARIANT_NAME</th>\n",
       "      <th>REVENUE</th>\n",
       "    </tr>\n",
       "  </thead>\n",
       "  <tbody>\n",
       "    <tr>\n",
       "      <th>0</th>\n",
       "      <td>737</td>\n",
       "      <td>variant</td>\n",
       "      <td>0.0</td>\n",
       "    </tr>\n",
       "    <tr>\n",
       "      <th>1</th>\n",
       "      <td>2423</td>\n",
       "      <td>control</td>\n",
       "      <td>0.0</td>\n",
       "    </tr>\n",
       "    <tr>\n",
       "      <th>2</th>\n",
       "      <td>9411</td>\n",
       "      <td>control</td>\n",
       "      <td>0.0</td>\n",
       "    </tr>\n",
       "    <tr>\n",
       "      <th>3</th>\n",
       "      <td>7311</td>\n",
       "      <td>control</td>\n",
       "      <td>0.0</td>\n",
       "    </tr>\n",
       "    <tr>\n",
       "      <th>4</th>\n",
       "      <td>6174</td>\n",
       "      <td>variant</td>\n",
       "      <td>0.0</td>\n",
       "    </tr>\n",
       "  </tbody>\n",
       "</table>\n",
       "</div>"
      ],
      "text/plain": [
       "   USER_ID VARIANT_NAME  REVENUE\n",
       "0      737      variant      0.0\n",
       "1     2423      control      0.0\n",
       "2     9411      control      0.0\n",
       "3     7311      control      0.0\n",
       "4     6174      variant      0.0"
      ]
     },
     "execution_count": 3,
     "metadata": {},
     "output_type": "execute_result"
    }
   ],
   "source": [
    "df.head()"
   ]
  },
  {
   "cell_type": "code",
   "execution_count": 4,
   "id": "85f3aa52",
   "metadata": {
    "execution": {
     "iopub.execute_input": "2024-06-24T20:40:19.440636Z",
     "iopub.status.busy": "2024-06-24T20:40:19.440203Z",
     "iopub.status.idle": "2024-06-24T20:40:19.455106Z",
     "shell.execute_reply": "2024-06-24T20:40:19.453993Z"
    },
    "papermill": {
     "duration": 0.037429,
     "end_time": "2024-06-24T20:40:19.457540",
     "exception": false,
     "start_time": "2024-06-24T20:40:19.420111",
     "status": "completed"
    },
    "tags": []
   },
   "outputs": [
    {
     "data": {
      "text/plain": [
       "USER_ID         6324\n",
       "VARIANT_NAME       2\n",
       "REVENUE          101\n",
       "dtype: int64"
      ]
     },
     "execution_count": 4,
     "metadata": {},
     "output_type": "execute_result"
    }
   ],
   "source": [
    "df.nunique()"
   ]
  },
  {
   "cell_type": "code",
   "execution_count": 5,
   "id": "663a35cf",
   "metadata": {
    "execution": {
     "iopub.execute_input": "2024-06-24T20:40:19.496588Z",
     "iopub.status.busy": "2024-06-24T20:40:19.496149Z",
     "iopub.status.idle": "2024-06-24T20:40:19.523268Z",
     "shell.execute_reply": "2024-06-24T20:40:19.522122Z"
    },
    "papermill": {
     "duration": 0.049521,
     "end_time": "2024-06-24T20:40:19.525801",
     "exception": false,
     "start_time": "2024-06-24T20:40:19.476280",
     "status": "completed"
    },
    "tags": []
   },
   "outputs": [
    {
     "data": {
      "text/html": [
       "<div>\n",
       "<style scoped>\n",
       "    .dataframe tbody tr th:only-of-type {\n",
       "        vertical-align: middle;\n",
       "    }\n",
       "\n",
       "    .dataframe tbody tr th {\n",
       "        vertical-align: top;\n",
       "    }\n",
       "\n",
       "    .dataframe thead th {\n",
       "        text-align: right;\n",
       "    }\n",
       "</style>\n",
       "<table border=\"1\" class=\"dataframe\">\n",
       "  <thead>\n",
       "    <tr style=\"text-align: right;\">\n",
       "      <th></th>\n",
       "      <th>USER_ID</th>\n",
       "      <th>REVENUE</th>\n",
       "    </tr>\n",
       "  </thead>\n",
       "  <tbody>\n",
       "    <tr>\n",
       "      <th>count</th>\n",
       "      <td>10000.000000</td>\n",
       "      <td>10000.000000</td>\n",
       "    </tr>\n",
       "    <tr>\n",
       "      <th>mean</th>\n",
       "      <td>4981.080200</td>\n",
       "      <td>0.099447</td>\n",
       "    </tr>\n",
       "    <tr>\n",
       "      <th>std</th>\n",
       "      <td>2890.590115</td>\n",
       "      <td>2.318529</td>\n",
       "    </tr>\n",
       "    <tr>\n",
       "      <th>min</th>\n",
       "      <td>2.000000</td>\n",
       "      <td>0.000000</td>\n",
       "    </tr>\n",
       "    <tr>\n",
       "      <th>25%</th>\n",
       "      <td>2468.750000</td>\n",
       "      <td>0.000000</td>\n",
       "    </tr>\n",
       "    <tr>\n",
       "      <th>50%</th>\n",
       "      <td>4962.000000</td>\n",
       "      <td>0.000000</td>\n",
       "    </tr>\n",
       "    <tr>\n",
       "      <th>75%</th>\n",
       "      <td>7511.500000</td>\n",
       "      <td>0.000000</td>\n",
       "    </tr>\n",
       "    <tr>\n",
       "      <th>max</th>\n",
       "      <td>10000.000000</td>\n",
       "      <td>196.010000</td>\n",
       "    </tr>\n",
       "  </tbody>\n",
       "</table>\n",
       "</div>"
      ],
      "text/plain": [
       "            USER_ID       REVENUE\n",
       "count  10000.000000  10000.000000\n",
       "mean    4981.080200      0.099447\n",
       "std     2890.590115      2.318529\n",
       "min        2.000000      0.000000\n",
       "25%     2468.750000      0.000000\n",
       "50%     4962.000000      0.000000\n",
       "75%     7511.500000      0.000000\n",
       "max    10000.000000    196.010000"
      ]
     },
     "execution_count": 5,
     "metadata": {},
     "output_type": "execute_result"
    }
   ],
   "source": [
    "df.describe()"
   ]
  },
  {
   "cell_type": "code",
   "execution_count": 6,
   "id": "b33b0a78",
   "metadata": {
    "execution": {
     "iopub.execute_input": "2024-06-24T20:40:19.601056Z",
     "iopub.status.busy": "2024-06-24T20:40:19.600618Z",
     "iopub.status.idle": "2024-06-24T20:40:19.616370Z",
     "shell.execute_reply": "2024-06-24T20:40:19.615192Z"
    },
    "papermill": {
     "duration": 0.03922,
     "end_time": "2024-06-24T20:40:19.620017",
     "exception": false,
     "start_time": "2024-06-24T20:40:19.580797",
     "status": "completed"
    },
    "tags": []
   },
   "outputs": [
    {
     "data": {
      "text/plain": [
       "1    4783\n",
       "2    1541\n",
       "Name: VARIANT_NAME, dtype: int64"
      ]
     },
     "execution_count": 6,
     "metadata": {},
     "output_type": "execute_result"
    }
   ],
   "source": [
    "# taking look at the distribution of the number of unique groups for each user\n",
    "double_variant_count = df.groupby('USER_ID')['VARIANT_NAME'].nunique().value_counts()\n",
    "double_variant_count"
   ]
  },
  {
   "cell_type": "code",
   "execution_count": 7,
   "id": "fb5a37e6",
   "metadata": {
    "execution": {
     "iopub.execute_input": "2024-06-24T20:40:19.660742Z",
     "iopub.status.busy": "2024-06-24T20:40:19.659851Z",
     "iopub.status.idle": "2024-06-24T20:40:19.668523Z",
     "shell.execute_reply": "2024-06-24T20:40:19.667427Z"
    },
    "papermill": {
     "duration": 0.031782,
     "end_time": "2024-06-24T20:40:19.670989",
     "exception": false,
     "start_time": "2024-06-24T20:40:19.639207",
     "status": "completed"
    },
    "tags": []
   },
   "outputs": [
    {
     "data": {
      "text/plain": [
       "1    0.756325\n",
       "2    0.243675\n",
       "Name: VARIANT_NAME, dtype: float64"
      ]
     },
     "execution_count": 7,
     "metadata": {},
     "output_type": "execute_result"
    }
   ],
   "source": [
    "# also look in relative terms\n",
    "double_variant_count / double_variant_count.sum()"
   ]
  },
  {
   "cell_type": "code",
   "execution_count": 8,
   "id": "4ef1c1f5",
   "metadata": {
    "execution": {
     "iopub.execute_input": "2024-06-24T20:40:19.748854Z",
     "iopub.status.busy": "2024-06-24T20:40:19.748436Z",
     "iopub.status.idle": "2024-06-24T20:40:19.759959Z",
     "shell.execute_reply": "2024-06-24T20:40:19.758798Z"
    },
    "papermill": {
     "duration": 0.034564,
     "end_time": "2024-06-24T20:40:19.762732",
     "exception": false,
     "start_time": "2024-06-24T20:40:19.728168",
     "status": "completed"
    },
    "tags": []
   },
   "outputs": [],
   "source": [
    "# first, let's see which users have 1 ab test group\n",
    "single_variant_users = (df.groupby('USER_ID')['VARIANT_NAME'].nunique() == 1)\n",
    "# and then take only these users\n",
    "single_variant_users = single_variant_users[single_variant_users]"
   ]
  },
  {
   "cell_type": "code",
   "execution_count": 9,
   "id": "300046ff",
   "metadata": {
    "execution": {
     "iopub.execute_input": "2024-06-24T20:40:19.802517Z",
     "iopub.status.busy": "2024-06-24T20:40:19.801479Z",
     "iopub.status.idle": "2024-06-24T20:40:19.816210Z",
     "shell.execute_reply": "2024-06-24T20:40:19.815071Z"
    },
    "papermill": {
     "duration": 0.037181,
     "end_time": "2024-06-24T20:40:19.818639",
     "exception": false,
     "start_time": "2024-06-24T20:40:19.781458",
     "status": "completed"
    },
    "tags": []
   },
   "outputs": [
    {
     "data": {
      "text/plain": [
       "True"
      ]
     },
     "execution_count": 9,
     "metadata": {},
     "output_type": "execute_result"
    }
   ],
   "source": [
    "# leave only records with users with the 1st ab test group\n",
    "df = df[df['USER_ID'].isin(single_variant_users.index)]\n",
    "# just in case, check that the number of users matches what it was before the exception\n",
    "df.groupby('USER_ID')['VARIANT_NAME'].nunique().value_counts().iloc[0] == double_variant_count.iloc[0]"
   ]
  },
  {
   "cell_type": "code",
   "execution_count": 8,
   "id": "fd3a375b",
   "metadata": {
    "execution": {
     "iopub.execute_input": "2024-06-24T20:40:19.894881Z",
     "iopub.status.busy": "2024-06-24T20:40:19.894431Z",
     "iopub.status.idle": "2024-06-24T20:40:20.148272Z",
     "shell.execute_reply": "2024-06-24T20:40:20.146987Z"
    },
    "papermill": {
     "duration": 0.276521,
     "end_time": "2024-06-24T20:40:20.150872",
     "exception": false,
     "start_time": "2024-06-24T20:40:19.874351",
     "status": "completed"
    },
    "tags": []
   },
   "outputs": [
    {
     "data": {
      "text/plain": [
       "<AxesSubplot:xlabel='VARIANT_NAME', ylabel='REVENUE'>"
      ]
     },
     "execution_count": 8,
     "metadata": {},
     "output_type": "execute_result"
    },
    {
     "data": {
      "image/png": "[encoded data removed]",
      "text/plain": [
       "<Figure size 432x288 with 1 Axes>"
      ]
     },
     "metadata": {
      "needs_background": "light"
     },
     "output_type": "display_data"
    }
   ],
   "source": [
    "sns.boxplot(x='VARIANT_NAME', y='REVENUE', data=df)"
   ]
  },
  {
   "cell_type": "code",
   "execution_count": 9,
   "id": "dfd11a3a",
   "metadata": {
    "execution": {
     "iopub.execute_input": "2024-06-24T20:40:20.230498Z",
     "iopub.status.busy": "2024-06-24T20:40:20.230060Z",
     "iopub.status.idle": "2024-06-24T20:40:20.245265Z",
     "shell.execute_reply": "2024-06-24T20:40:20.243832Z"
    },
    "papermill": {
     "duration": 0.038705,
     "end_time": "2024-06-24T20:40:20.247968",
     "exception": false,
     "start_time": "2024-06-24T20:40:20.209263",
     "status": "completed"
    },
    "tags": []
   },
   "outputs": [
    {
     "data": {
      "text/html": [
       "<div>\n",
       "<style scoped>\n",
       "    .dataframe tbody tr th:only-of-type {\n",
       "        vertical-align: middle;\n",
       "    }\n",
       "\n",
       "    .dataframe tbody tr th {\n",
       "        vertical-align: top;\n",
       "    }\n",
       "\n",
       "    .dataframe thead th {\n",
       "        text-align: right;\n",
       "    }\n",
       "</style>\n",
       "<table border=\"1\" class=\"dataframe\">\n",
       "  <thead>\n",
       "    <tr style=\"text-align: right;\">\n",
       "      <th></th>\n",
       "      <th>USER_ID</th>\n",
       "      <th>VARIANT_NAME</th>\n",
       "      <th>REVENUE</th>\n",
       "    </tr>\n",
       "  </thead>\n",
       "  <tbody>\n",
       "    <tr>\n",
       "      <th>1437</th>\n",
       "      <td>3342</td>\n",
       "      <td>control</td>\n",
       "      <td>196.01</td>\n",
       "    </tr>\n",
       "    <tr>\n",
       "      <th>6447</th>\n",
       "      <td>2881</td>\n",
       "      <td>variant</td>\n",
       "      <td>58.63</td>\n",
       "    </tr>\n",
       "    <tr>\n",
       "      <th>7642</th>\n",
       "      <td>7206</td>\n",
       "      <td>variant</td>\n",
       "      <td>57.46</td>\n",
       "    </tr>\n",
       "    <tr>\n",
       "      <th>9421</th>\n",
       "      <td>6792</td>\n",
       "      <td>control</td>\n",
       "      <td>41.53</td>\n",
       "    </tr>\n",
       "    <tr>\n",
       "      <th>8168</th>\n",
       "      <td>2166</td>\n",
       "      <td>control</td>\n",
       "      <td>29.32</td>\n",
       "    </tr>\n",
       "    <tr>\n",
       "      <th>9125</th>\n",
       "      <td>831</td>\n",
       "      <td>control</td>\n",
       "      <td>25.98</td>\n",
       "    </tr>\n",
       "    <tr>\n",
       "      <th>2482</th>\n",
       "      <td>7356</td>\n",
       "      <td>variant</td>\n",
       "      <td>23.04</td>\n",
       "    </tr>\n",
       "    <tr>\n",
       "      <th>6412</th>\n",
       "      <td>1053</td>\n",
       "      <td>control</td>\n",
       "      <td>20.07</td>\n",
       "    </tr>\n",
       "    <tr>\n",
       "      <th>5217</th>\n",
       "      <td>3684</td>\n",
       "      <td>variant</td>\n",
       "      <td>19.47</td>\n",
       "    </tr>\n",
       "    <tr>\n",
       "      <th>5530</th>\n",
       "      <td>282</td>\n",
       "      <td>control</td>\n",
       "      <td>18.56</td>\n",
       "    </tr>\n",
       "  </tbody>\n",
       "</table>\n",
       "</div>"
      ],
      "text/plain": [
       "      USER_ID VARIANT_NAME  REVENUE\n",
       "1437     3342      control   196.01\n",
       "6447     2881      variant    58.63\n",
       "7642     7206      variant    57.46\n",
       "9421     6792      control    41.53\n",
       "8168     2166      control    29.32\n",
       "9125      831      control    25.98\n",
       "2482     7356      variant    23.04\n",
       "6412     1053      control    20.07\n",
       "5217     3684      variant    19.47\n",
       "5530      282      control    18.56"
      ]
     },
     "execution_count": 9,
     "metadata": {},
     "output_type": "execute_result"
    }
   ],
   "source": [
    "df.sort_values(by='REVENUE', ascending=False).iloc[:10]"
   ]
  },
  {
   "cell_type": "code",
   "execution_count": 13,
   "id": "d96878fe",
   "metadata": {
    "execution": {
     "iopub.execute_input": "2024-06-24T20:40:20.426093Z",
     "iopub.status.busy": "2024-06-24T20:40:20.425664Z",
     "iopub.status.idle": "2024-06-24T20:40:20.432727Z",
     "shell.execute_reply": "2024-06-24T20:40:20.431706Z"
    },
    "papermill": {
     "duration": 0.031512,
     "end_time": "2024-06-24T20:40:20.435278",
     "exception": false,
     "start_time": "2024-06-24T20:40:20.403766",
     "status": "completed"
    },
    "tags": []
   },
   "outputs": [],
   "source": [
    "df = df[df['USER_ID'] != 4241]"
   ]
  },
  {
   "cell_type": "code",
   "execution_count": 14,
   "id": "1b5f7e90",
   "metadata": {
    "execution": {
     "iopub.execute_input": "2024-06-24T20:40:20.476832Z",
     "iopub.status.busy": "2024-06-24T20:40:20.476384Z",
     "iopub.status.idle": "2024-06-24T20:40:20.778114Z",
     "shell.execute_reply": "2024-06-24T20:40:20.776711Z"
    },
    "papermill": {
     "duration": 0.325583,
     "end_time": "2024-06-24T20:40:20.780754",
     "exception": false,
     "start_time": "2024-06-24T20:40:20.455171",
     "status": "completed"
    },
    "tags": []
   },
   "outputs": [
    {
     "data": {
      "text/plain": [
       "([<matplotlib.axis.XTick at 0x121b78a0460>,\n",
       "  <matplotlib.axis.XTick at 0x121b78a0280>],\n",
       " [Text(0, 0, 'control'), Text(1, 0, 'variant')])"
      ]
     },
     "execution_count": 14,
     "metadata": {},
     "output_type": "execute_result"
    },
    {
     "data": {
      "image/png": "[encoded data removed]",
      "text/plain": [
       "<Figure size 360x864 with 2 Axes>"
      ]
     },
     "metadata": {
      "needs_background": "light"
     },
     "output_type": "display_data"
    }
   ],
   "source": [
    "f, axes = plt.subplots(2, sharex=True, figsize=(5,12))\n",
    "sns.boxplot(ax = axes[0], x = 'VARIANT_NAME', y = 'REVENUE', data = df)\n",
    "sns.boxplot(ax = axes[1], x = 'VARIANT_NAME', y = 'REVENUE', data = df[df['REVENUE'] > 0])\n",
    "plt.xticks(np.arange(2), ('control', 'variant'))"
   ]
  },
  {
   "cell_type": "code",
   "execution_count": 15,
   "id": "6f33535b",
   "metadata": {
    "execution": {
     "iopub.execute_input": "2024-06-24T20:40:20.862928Z",
     "iopub.status.busy": "2024-06-24T20:40:20.862186Z",
     "iopub.status.idle": "2024-06-24T20:40:20.873196Z",
     "shell.execute_reply": "2024-06-24T20:40:20.871964Z"
    },
    "papermill": {
     "duration": 0.034851,
     "end_time": "2024-06-24T20:40:20.875678",
     "exception": false,
     "start_time": "2024-06-24T20:40:20.840827",
     "status": "completed"
    },
    "tags": []
   },
   "outputs": [
    {
     "data": {
      "text/plain": [
       "52"
      ]
     },
     "execution_count": 15,
     "metadata": {},
     "output_type": "execute_result"
    }
   ],
   "source": [
    "# let's see if there are users who have records with zero and positive revenue\n",
    "(df.loc[\n",
    "    (df['REVENUE'] == 0) & (df['USER_ID'].isin(df.loc[df['REVENUE'] > 0, 'USER_ID'].values)), \n",
    "    'USER_ID'\n",
    "]).count()"
   ]
  },
  {
   "cell_type": "code",
   "execution_count": 16,
   "id": "95558b04",
   "metadata": {
    "execution": {
     "iopub.execute_input": "2024-06-24T20:40:20.961707Z",
     "iopub.status.busy": "2024-06-24T20:40:20.960469Z",
     "iopub.status.idle": "2024-06-24T20:40:20.976851Z",
     "shell.execute_reply": "2024-06-24T20:40:20.975584Z"
    },
    "papermill": {
     "duration": 0.042815,
     "end_time": "2024-06-24T20:40:20.979824",
     "exception": false,
     "start_time": "2024-06-24T20:40:20.937009",
     "status": "completed"
    },
    "tags": []
   },
   "outputs": [],
   "source": [
    "df = df.groupby(by=['USER_ID', 'VARIANT_NAME']).sum().reset_index()"
   ]
  },
  {
   "cell_type": "code",
   "execution_count": 16,
   "id": "11500b21",
   "metadata": {
    "execution": {
     "iopub.execute_input": "2024-06-24T20:40:21.063745Z",
     "iopub.status.busy": "2024-06-24T20:40:21.063272Z",
     "iopub.status.idle": "2024-06-24T20:40:21.409770Z",
     "shell.execute_reply": "2024-06-24T20:40:21.408585Z"
    },
    "papermill": {
     "duration": 0.371363,
     "end_time": "2024-06-24T20:40:21.412471",
     "exception": false,
     "start_time": "2024-06-24T20:40:21.041108",
     "status": "completed"
    },
    "tags": []
   },
   "outputs": [
    {
     "data": {
      "text/plain": [
       "([<matplotlib.axis.XTick at 0x121b7a5e160>,\n",
       "  <matplotlib.axis.XTick at 0x121b7a5e3a0>],\n",
       " [Text(0, 0, 'control'), Text(1, 0, 'variant')])"
      ]
     },
     "execution_count": 16,
     "metadata": {},
     "output_type": "execute_result"
    },
    {
     "data": {
      "image/png": "[encoded data removed]",
      "text/plain": [
       "<Figure size 360x864 with 2 Axes>"
      ]
     },
     "metadata": {
      "needs_background": "light"
     },
     "output_type": "display_data"
    }
   ],
   "source": [
    "f, axes = plt.subplots(2, sharex=True, figsize=(5,12))\n",
    "sns.boxplot(ax = axes[0], x = 'VARIANT_NAME', y = 'REVENUE', data = df)\n",
    "sns.boxplot(ax = axes[1], x = 'VARIANT_NAME', y = 'REVENUE', data = df[df['REVENUE'] > 0])\n",
    "plt.xticks(np.arange(2), ('control', 'variant'))"
   ]
  },
  {
   "cell_type": "code",
   "execution_count": 17,
   "id": "90287f07",
   "metadata": {
    "execution": {
     "iopub.execute_input": "2024-06-24T20:40:21.498298Z",
     "iopub.status.busy": "2024-06-24T20:40:21.497495Z",
     "iopub.status.idle": "2024-06-24T20:40:21.528290Z",
     "shell.execute_reply": "2024-06-24T20:40:21.527091Z"
    },
    "papermill": {
     "duration": 0.055859,
     "end_time": "2024-06-24T20:40:21.531238",
     "exception": false,
     "start_time": "2024-06-24T20:40:21.475379",
     "status": "completed"
    },
    "tags": []
   },
   "outputs": [
    {
     "data": {
      "text/html": [
       "<div>\n",
       "<style scoped>\n",
       "    .dataframe tbody tr th:only-of-type {\n",
       "        vertical-align: middle;\n",
       "    }\n",
       "\n",
       "    .dataframe tbody tr th {\n",
       "        vertical-align: top;\n",
       "    }\n",
       "\n",
       "    .dataframe thead tr th {\n",
       "        text-align: left;\n",
       "    }\n",
       "\n",
       "    .dataframe thead tr:last-of-type th {\n",
       "        text-align: right;\n",
       "    }\n",
       "</style>\n",
       "<table border=\"1\" class=\"dataframe\">\n",
       "  <thead>\n",
       "    <tr>\n",
       "      <th></th>\n",
       "      <th>USER_ID</th>\n",
       "      <th colspan=\"4\" halign=\"left\">REVENUE</th>\n",
       "      <th colspan=\"2\" halign=\"left\">per_user</th>\n",
       "    </tr>\n",
       "    <tr>\n",
       "      <th></th>\n",
       "      <th>nunique</th>\n",
       "      <th>sum</th>\n",
       "      <th>mean</th>\n",
       "      <th>median</th>\n",
       "      <th>count</th>\n",
       "      <th>orders</th>\n",
       "      <th>revenue</th>\n",
       "    </tr>\n",
       "    <tr>\n",
       "      <th>VARIANT_NAME</th>\n",
       "      <th></th>\n",
       "      <th></th>\n",
       "      <th></th>\n",
       "      <th></th>\n",
       "      <th></th>\n",
       "      <th></th>\n",
       "      <th></th>\n",
       "    </tr>\n",
       "  </thead>\n",
       "  <tbody>\n",
       "    <tr>\n",
       "      <th>control</th>\n",
       "      <td>3930</td>\n",
       "      <td>446.99</td>\n",
       "      <td>0.089703</td>\n",
       "      <td>0.0</td>\n",
       "      <td>4983</td>\n",
       "      <td>1.267939</td>\n",
       "      <td>0.113738</td>\n",
       "    </tr>\n",
       "    <tr>\n",
       "      <th>variant</th>\n",
       "      <td>3933</td>\n",
       "      <td>351.47</td>\n",
       "      <td>0.070084</td>\n",
       "      <td>0.0</td>\n",
       "      <td>5015</td>\n",
       "      <td>1.275108</td>\n",
       "      <td>0.089364</td>\n",
       "    </tr>\n",
       "  </tbody>\n",
       "</table>\n",
       "</div>"
      ],
      "text/plain": [
       "             USER_ID REVENUE                         per_user          \n",
       "             nunique     sum      mean median count    orders   revenue\n",
       "VARIANT_NAME                                                           \n",
       "control         3930  446.99  0.089703    0.0  4983  1.267939  0.113738\n",
       "variant         3933  351.47  0.070084    0.0  5015  1.275108  0.089364"
      ]
     },
     "execution_count": 17,
     "metadata": {},
     "output_type": "execute_result"
    }
   ],
   "source": [
    "# get metrics by groups\n",
    "all_stat = df.groupby(by='VARIANT_NAME').agg({'USER_ID': 'nunique',\n",
    "                                               'REVENUE': ['sum', 'mean', 'median', 'count']})\n",
    "\n",
    "# create two additional metrics to see relative changes\n",
    "orders_per_user = all_stat.loc[:, ('REVENUE', 'count')] / all_stat.loc[:, ('USER_ID', 'nunique')]\n",
    "revenue_per_user = all_stat.loc[:, ('REVENUE', 'sum')] / all_stat.loc[:, ('USER_ID', 'nunique')]\n",
    "\n",
    "# add them to the rest of the metrics in a separate group\n",
    "all_stat.loc[:, ('per_user', 'orders')] = orders_per_user\n",
    "all_stat.loc[:, ('per_user', 'revenue')] = revenue_per_user\n",
    "\n",
    "all_stat"
   ]
  },
  {
   "cell_type": "code",
   "execution_count": 18,
   "id": "3e535084",
   "metadata": {
    "execution": {
     "iopub.execute_input": "2024-06-24T20:40:21.617094Z",
     "iopub.status.busy": "2024-06-24T20:40:21.616623Z",
     "iopub.status.idle": "2024-06-24T20:40:21.650315Z",
     "shell.execute_reply": "2024-06-24T20:40:21.649082Z"
    },
    "papermill": {
     "duration": 0.058475,
     "end_time": "2024-06-24T20:40:21.652673",
     "exception": false,
     "start_time": "2024-06-24T20:40:21.594198",
     "status": "completed"
    },
    "tags": []
   },
   "outputs": [
    {
     "data": {
      "text/html": [
       "<div>\n",
       "<style scoped>\n",
       "    .dataframe tbody tr th:only-of-type {\n",
       "        vertical-align: middle;\n",
       "    }\n",
       "\n",
       "    .dataframe tbody tr th {\n",
       "        vertical-align: top;\n",
       "    }\n",
       "\n",
       "    .dataframe thead tr th {\n",
       "        text-align: left;\n",
       "    }\n",
       "\n",
       "    .dataframe thead tr:last-of-type th {\n",
       "        text-align: right;\n",
       "    }\n",
       "</style>\n",
       "<table border=\"1\" class=\"dataframe\">\n",
       "  <thead>\n",
       "    <tr>\n",
       "      <th></th>\n",
       "      <th>USER_ID</th>\n",
       "      <th colspan=\"4\" halign=\"left\">REVENUE</th>\n",
       "      <th colspan=\"2\" halign=\"left\">per_user</th>\n",
       "    </tr>\n",
       "    <tr>\n",
       "      <th></th>\n",
       "      <th>nunique</th>\n",
       "      <th>sum</th>\n",
       "      <th>mean</th>\n",
       "      <th>median</th>\n",
       "      <th>count</th>\n",
       "      <th>orders</th>\n",
       "      <th>revenue</th>\n",
       "    </tr>\n",
       "    <tr>\n",
       "      <th>VARIANT_NAME</th>\n",
       "      <th></th>\n",
       "      <th></th>\n",
       "      <th></th>\n",
       "      <th></th>\n",
       "      <th></th>\n",
       "      <th></th>\n",
       "      <th></th>\n",
       "    </tr>\n",
       "  </thead>\n",
       "  <tbody>\n",
       "    <tr>\n",
       "      <th>control</th>\n",
       "      <td>79</td>\n",
       "      <td>446.99</td>\n",
       "      <td>5.658101</td>\n",
       "      <td>2.93</td>\n",
       "      <td>79</td>\n",
       "      <td>1.000000</td>\n",
       "      <td>5.658101</td>\n",
       "    </tr>\n",
       "    <tr>\n",
       "      <th>variant</th>\n",
       "      <td>71</td>\n",
       "      <td>351.47</td>\n",
       "      <td>4.881528</td>\n",
       "      <td>2.17</td>\n",
       "      <td>72</td>\n",
       "      <td>1.014085</td>\n",
       "      <td>4.950282</td>\n",
       "    </tr>\n",
       "  </tbody>\n",
       "</table>\n",
       "</div>"
      ],
      "text/plain": [
       "             USER_ID REVENUE                         per_user          \n",
       "             nunique     sum      mean median count    orders   revenue\n",
       "VARIANT_NAME                                                           \n",
       "control           79  446.99  5.658101   2.93    79  1.000000  5.658101\n",
       "variant           71  351.47  4.881528   2.17    72  1.014085  4.950282"
      ]
     },
     "execution_count": 18,
     "metadata": {},
     "output_type": "execute_result"
    }
   ],
   "source": [
    "# get metrics by groups\n",
    "paid_stat = df.loc[df.REVENUE != 0].groupby(by='VARIANT_NAME').agg({'USER_ID': 'nunique',\n",
    "                                                                     'REVENUE': ['sum', 'mean', 'median', 'count']})\n",
    "\n",
    "# add two additional metrics to see relative changes\n",
    "orders_per_user = paid_stat.loc[:, ('REVENUE', 'count')] / paid_stat.loc[:, ('USER_ID', 'nunique')]\n",
    "revenue_per_user = paid_stat.loc[:, ('REVENUE', 'sum')] / paid_stat.loc[:, ('USER_ID', 'nunique')]\n",
    "paid_stat.loc[:, ('per_user', 'orders')] = orders_per_user\n",
    "paid_stat.loc[:, ('per_user', 'revenue')] = revenue_per_user\n",
    "\n",
    "paid_stat"
   ]
  },
  {
   "cell_type": "markdown",
   "id": "6682728e",
   "metadata": {
    "papermill": {
     "duration": 0.021759,
     "end_time": "2024-06-24T20:40:21.698334",
     "exception": false,
     "start_time": "2024-06-24T20:40:21.676575",
     "status": "completed"
    },
    "tags": []
   },
   "source": [
    "## Let's look at the distributions of all and only paying users"
   ]
  },
  {
   "cell_type": "code",
   "execution_count": 19,
   "id": "fbdb9609",
   "metadata": {
    "execution": {
     "iopub.execute_input": "2024-06-24T20:40:21.743624Z",
     "iopub.status.busy": "2024-06-24T20:40:21.742744Z",
     "iopub.status.idle": "2024-06-24T20:40:22.519638Z",
     "shell.execute_reply": "2024-06-24T20:40:22.518336Z"
    },
    "papermill": {
     "duration": 0.802562,
     "end_time": "2024-06-24T20:40:22.522553",
     "exception": false,
     "start_time": "2024-06-24T20:40:21.719991",
     "status": "completed"
    },
    "tags": []
   },
   "outputs": [
    {
     "name": "stderr",
     "output_type": "stream",
     "text": [
      "C:\\Users\\draj2\\anaconda3\\lib\\site-packages\\seaborn\\distributions.py:2619: FutureWarning: `distplot` is a deprecated function and will be removed in a future version. Please adapt your code to use either `displot` (a figure-level function with similar flexibility) or `histplot` (an axes-level function for histograms).\n",
      "  warnings.warn(msg, FutureWarning)\n",
      "C:\\Users\\draj2\\anaconda3\\lib\\site-packages\\seaborn\\distributions.py:2619: FutureWarning: `distplot` is a deprecated function and will be removed in a future version. Please adapt your code to use either `displot` (a figure-level function with similar flexibility) or `histplot` (an axes-level function for histograms).\n",
      "  warnings.warn(msg, FutureWarning)\n",
      "C:\\Users\\draj2\\anaconda3\\lib\\site-packages\\seaborn\\distributions.py:2619: FutureWarning: `distplot` is a deprecated function and will be removed in a future version. Please adapt your code to use either `displot` (a figure-level function with similar flexibility) or `histplot` (an axes-level function for histograms).\n",
      "  warnings.warn(msg, FutureWarning)\n",
      "C:\\Users\\draj2\\anaconda3\\lib\\site-packages\\seaborn\\distributions.py:2619: FutureWarning: `distplot` is a deprecated function and will be removed in a future version. Please adapt your code to use either `displot` (a figure-level function with similar flexibility) or `histplot` (an axes-level function for histograms).\n",
      "  warnings.warn(msg, FutureWarning)\n"
     ]
    },
    {
     "data": {
      "image/png": "[encoded data removed]",
      "text/plain": [
       "<Figure size 720x576 with 2 Axes>"
      ]
     },
     "metadata": {
      "needs_background": "light"
     },
     "output_type": "display_data"
    }
   ],
   "source": [
    "f, axes = plt.subplots(2, figsize=(10,8))\n",
    "# build graphs of distributions of all users\n",
    "sns.distplot(df.loc[df['VARIANT_NAME'] == 'control', 'REVENUE'], ax = axes[0], label='control')\n",
    "sns.distplot(df.loc[df['VARIANT_NAME'] == 'variant', 'REVENUE'], ax = axes[0], label='variant')\n",
    "axes[0].set_title('Distribution of revenue of all users')\n",
    "\n",
    "# build graphs of distributions of paying users\n",
    "sns.distplot(df.loc[(df['VARIANT_NAME'] == 'control') & (df['REVENUE'] > 0), 'REVENUE'], ax = axes[1], label='control' )\n",
    "sns.distplot(df.loc[(df['VARIANT_NAME'] == 'variant') & (df['REVENUE'] > 0), 'REVENUE'], ax = axes[1], label='variant' )\n",
    "axes[1].set_title('Paying user revenue distribution')\n",
    "plt.legend()\n",
    "plt.subplots_adjust(hspace = 0.3)"
   ]
  },
  {
   "cell_type": "markdown",
   "id": "390e5c92",
   "metadata": {
    "papermill": {
     "duration": 0.022962,
     "end_time": "2024-06-24T20:40:22.568224",
     "exception": false,
     "start_time": "2024-06-24T20:40:22.545262",
     "status": "completed"
    },
    "tags": []
   },
   "source": [
    "## Statistical Analysis "
   ]
  },
  {
   "cell_type": "markdown",
   "id": "8e5c5343",
   "metadata": {
    "papermill": {
     "duration": 0.021993,
     "end_time": "2024-06-24T20:40:22.612753",
     "exception": false,
     "start_time": "2024-06-24T20:40:22.590760",
     "status": "completed"
    },
    "tags": []
   },
   "source": [
    "#### Checking if the distribution is normal"
   ]
  },
  {
   "cell_type": "code",
   "execution_count": 20,
   "id": "2b9e3569",
   "metadata": {
    "execution": {
     "iopub.execute_input": "2024-06-24T20:40:22.704900Z",
     "iopub.status.busy": "2024-06-24T20:40:22.704453Z",
     "iopub.status.idle": "2024-06-24T20:40:22.714157Z",
     "shell.execute_reply": "2024-06-24T20:40:22.712986Z"
    },
    "papermill": {
     "duration": 0.036344,
     "end_time": "2024-06-24T20:40:22.716871",
     "exception": false,
     "start_time": "2024-06-24T20:40:22.680527",
     "status": "completed"
    },
    "tags": []
   },
   "outputs": [
    {
     "name": "stderr",
     "output_type": "stream",
     "text": [
      "C:\\Users\\draj2\\anaconda3\\lib\\site-packages\\scipy\\stats\\morestats.py:1760: UserWarning: p-value may not be accurate for N > 5000.\n",
      "  warnings.warn(\"p-value may not be accurate for N > 5000.\")\n"
     ]
    },
    {
     "data": {
      "text/plain": [
       "ShapiroResult(statistic=0.027037441730499268, pvalue=0.0)"
      ]
     },
     "execution_count": 20,
     "metadata": {},
     "output_type": "execute_result"
    }
   ],
   "source": [
    "shapiro(df.loc[df.VARIANT_NAME == 'variant', 'REVENUE'])"
   ]
  },
  {
   "cell_type": "markdown",
   "id": "25c55359",
   "metadata": {
    "papermill": {
     "duration": 0.023393,
     "end_time": "2024-06-24T20:40:22.763413",
     "exception": false,
     "start_time": "2024-06-24T20:40:22.740020",
     "status": "completed"
    },
    "tags": []
   },
   "source": [
    "The null hypothesis about the normal distribution of the data is rejected"
   ]
  },
  {
   "cell_type": "markdown",
   "id": "11d8731c",
   "metadata": {
    "papermill": {
     "duration": 0.023195,
     "end_time": "2024-06-24T20:40:22.809762",
     "exception": false,
     "start_time": "2024-06-24T20:40:22.786567",
     "status": "completed"
    },
    "tags": []
   },
   "source": [
    "#### Mann-Whitney test"
   ]
  },
  {
   "cell_type": "code",
   "execution_count": 21,
   "id": "2924abde",
   "metadata": {
    "execution": {
     "iopub.execute_input": "2024-06-24T20:40:22.902313Z",
     "iopub.status.busy": "2024-06-24T20:40:22.901879Z",
     "iopub.status.idle": "2024-06-24T20:40:22.912173Z",
     "shell.execute_reply": "2024-06-24T20:40:22.910836Z"
    },
    "papermill": {
     "duration": 0.037607,
     "end_time": "2024-06-24T20:40:22.914928",
     "exception": false,
     "start_time": "2024-06-24T20:40:22.877321",
     "status": "completed"
    },
    "tags": []
   },
   "outputs": [
    {
     "data": {
      "text/plain": [
       "True     9847\n",
       "False     151\n",
       "Name: REVENUE, dtype: int64"
      ]
     },
     "execution_count": 21,
     "metadata": {},
     "output_type": "execute_result"
    }
   ],
   "source": [
    "(df['REVENUE'] == 0).value_counts()"
   ]
  },
  {
   "cell_type": "markdown",
   "id": "f45da10b",
   "metadata": {
    "papermill": {
     "duration": 0.02527,
     "end_time": "2024-06-24T20:40:22.964875",
     "exception": false,
     "start_time": "2024-06-24T20:40:22.939605",
     "status": "completed"
    },
    "tags": []
   },
   "source": [
    "Let's first check on the data of all users"
   ]
  },
  {
   "cell_type": "code",
   "execution_count": 22,
   "id": "08afe79a",
   "metadata": {
    "execution": {
     "iopub.execute_input": "2024-06-24T20:40:23.016181Z",
     "iopub.status.busy": "2024-06-24T20:40:23.015734Z",
     "iopub.status.idle": "2024-06-24T20:40:23.029618Z",
     "shell.execute_reply": "2024-06-24T20:40:23.028197Z"
    },
    "papermill": {
     "duration": 0.042729,
     "end_time": "2024-06-24T20:40:23.032415",
     "exception": false,
     "start_time": "2024-06-24T20:40:22.989686",
     "status": "completed"
    },
    "tags": []
   },
   "outputs": [
    {
     "data": {
      "text/plain": [
       "MannwhitneyuResult(statistic=12475728.0, pvalue=0.5300041525838701)"
      ]
     },
     "execution_count": 22,
     "metadata": {},
     "output_type": "execute_result"
    }
   ],
   "source": [
    "mannwhitneyu(df.loc[df.VARIANT_NAME == 'variant', 'REVENUE'], df.loc[df.VARIANT_NAME == 'control', 'REVENUE'])"
   ]
  },
  {
   "cell_type": "markdown",
   "id": "fa2ceba8",
   "metadata": {
    "papermill": {
     "duration": 0.023106,
     "end_time": "2024-06-24T20:40:23.078381",
     "exception": false,
     "start_time": "2024-06-24T20:40:23.055275",
     "status": "completed"
    },
    "tags": []
   },
   "source": [
    "And only those who pay"
   ]
  },
  {
   "cell_type": "code",
   "execution_count": 23,
   "id": "e7741018",
   "metadata": {
    "execution": {
     "iopub.execute_input": "2024-06-24T20:40:23.126250Z",
     "iopub.status.busy": "2024-06-24T20:40:23.125789Z",
     "iopub.status.idle": "2024-06-24T20:40:23.138923Z",
     "shell.execute_reply": "2024-06-24T20:40:23.137809Z"
    },
    "papermill": {
     "duration": 0.039652,
     "end_time": "2024-06-24T20:40:23.141381",
     "exception": false,
     "start_time": "2024-06-24T20:40:23.101729",
     "status": "completed"
    },
    "tags": []
   },
   "outputs": [
    {
     "data": {
      "text/plain": [
       "MannwhitneyuResult(statistic=2404.0, pvalue=0.10145877111519161)"
      ]
     },
     "execution_count": 23,
     "metadata": {},
     "output_type": "execute_result"
    }
   ],
   "source": [
    "mannwhitneyu(df.loc[(df.VARIANT_NAME == 'variant') & (df.REVENUE > 0), 'REVENUE'], \n",
    "             df.loc[(df.VARIANT_NAME == 'control') & (df.REVENUE > 0), 'REVENUE'])"
   ]
  },
  {
   "cell_type": "markdown",
   "id": "1f2edfed",
   "metadata": {
    "execution": {
     "iopub.execute_input": "2022-09-16T17:49:10.365079Z",
     "iopub.status.busy": "2022-09-16T17:49:10.363800Z",
     "iopub.status.idle": "2022-09-16T17:49:10.369587Z",
     "shell.execute_reply": "2022-09-16T17:49:10.368719Z",
     "shell.execute_reply.started": "2022-09-16T17:49:10.365037Z"
    },
    "papermill": {
     "duration": 0.022733,
     "end_time": "2024-06-24T20:40:23.186912",
     "exception": false,
     "start_time": "2024-06-24T20:40:23.164179",
     "status": "completed"
    },
    "tags": []
   },
   "source": [
    "#### Bootstrap"
   ]
  },
  {
   "cell_type": "markdown",
   "id": "dc9de965",
   "metadata": {
    "papermill": {
     "duration": 0.022552,
     "end_time": "2024-06-24T20:40:23.232452",
     "exception": false,
     "start_time": "2024-06-24T20:40:23.209900",
     "status": "completed"
    },
    "tags": []
   },
   "source": [
    "In order to get more complete information about the differences between the average values of the ab test groups, we will use bootstap.\n",
    "\n",
    "Let's create a function to get back samples and get a confidence interval, and then look at the sample statistics"
   ]
  },
  {
   "cell_type": "code",
   "execution_count": 24,
   "id": "6026e89a",
   "metadata": {
    "execution": {
     "iopub.execute_input": "2024-06-24T20:40:23.281899Z",
     "iopub.status.busy": "2024-06-24T20:40:23.280704Z",
     "iopub.status.idle": "2024-06-24T20:40:23.288302Z",
     "shell.execute_reply": "2024-06-24T20:40:23.287060Z"
    },
    "papermill": {
     "duration": 0.034471,
     "end_time": "2024-06-24T20:40:23.290750",
     "exception": false,
     "start_time": "2024-06-24T20:40:23.256279",
     "status": "completed"
    },
    "tags": []
   },
   "outputs": [],
   "source": [
    "def get_bootstrap_samples(data, n_samples=1000):\n",
    "    indices = np.random.randint(0, len(data), (n_samples, len(data)))\n",
    "    samples = data[indices]\n",
    "    return samples\n",
    "\n",
    "def stat_intervals(stat, alpha=0.05):\n",
    "    boundaries = np.percentile(stat, [100 * alpha / 2., 100 * (1 - alpha / 2.)])\n",
    "    return boundaries"
   ]
  },
  {
   "cell_type": "markdown",
   "id": "3159923c",
   "metadata": {
    "papermill": {
     "duration": 0.022912,
     "end_time": "2024-06-24T20:40:23.337411",
     "exception": false,
     "start_time": "2024-06-24T20:40:23.314499",
     "status": "completed"
    },
    "tags": []
   },
   "source": [
    "Let's generate samples for all users"
   ]
  },
  {
   "cell_type": "code",
   "execution_count": 25,
   "id": "f4df9190",
   "metadata": {
    "execution": {
     "iopub.execute_input": "2024-06-24T20:40:23.387301Z",
     "iopub.status.busy": "2024-06-24T20:40:23.386397Z",
     "iopub.status.idle": "2024-06-24T20:40:24.716065Z",
     "shell.execute_reply": "2024-06-24T20:40:24.714915Z"
    },
    "papermill": {
     "duration": 1.35831,
     "end_time": "2024-06-24T20:40:24.718905",
     "exception": false,
     "start_time": "2024-06-24T20:40:23.360595",
     "status": "completed"
    },
    "tags": []
   },
   "outputs": [],
   "source": [
    "control = get_bootstrap_samples(df.loc[df.VARIANT_NAME == 'control', 'REVENUE'].values, 10000)\n",
    "variant = get_bootstrap_samples(df.loc[df.VARIANT_NAME == 'variant', 'REVENUE'].values, 10000)"
   ]
  },
  {
   "cell_type": "markdown",
   "id": "5efd5f02",
   "metadata": {
    "papermill": {
     "duration": 0.022491,
     "end_time": "2024-06-24T20:40:24.765769",
     "exception": false,
     "start_time": "2024-06-24T20:40:24.743278",
     "status": "completed"
    },
    "tags": []
   },
   "source": [
    "And only for the paying users"
   ]
  },
  {
   "cell_type": "code",
   "execution_count": 26,
   "id": "607ac1eb",
   "metadata": {
    "execution": {
     "iopub.execute_input": "2024-06-24T20:40:24.813837Z",
     "iopub.status.busy": "2024-06-24T20:40:24.813359Z",
     "iopub.status.idle": "2024-06-24T20:40:24.845001Z",
     "shell.execute_reply": "2024-06-24T20:40:24.843747Z"
    },
    "papermill": {
     "duration": 0.059058,
     "end_time": "2024-06-24T20:40:24.847852",
     "exception": false,
     "start_time": "2024-06-24T20:40:24.788794",
     "status": "completed"
    },
    "tags": []
   },
   "outputs": [],
   "source": [
    "control_paid = get_bootstrap_samples(df.loc[(df.VARIANT_NAME == 'control') & (df.REVENUE > 0), 'REVENUE'].values, 10000)\n",
    "variant_paid = get_bootstrap_samples(df.loc[(df.VARIANT_NAME == 'variant') & (df.REVENUE > 0), 'REVENUE'].values, 10000)"
   ]
  },
  {
   "cell_type": "markdown",
   "id": "1fa197b0",
   "metadata": {
    "papermill": {
     "duration": 0.022806,
     "end_time": "2024-06-24T20:40:24.894484",
     "exception": false,
     "start_time": "2024-06-24T20:40:24.871678",
     "status": "completed"
    },
    "tags": []
   },
   "source": [
    "Let's look at the distribution of means in the ab test groups"
   ]
  },
  {
   "cell_type": "code",
   "execution_count": 27,
   "id": "50f074e3",
   "metadata": {
    "execution": {
     "iopub.execute_input": "2024-06-24T20:40:24.942943Z",
     "iopub.status.busy": "2024-06-24T20:40:24.942478Z",
     "iopub.status.idle": "2024-06-24T20:40:25.284055Z",
     "shell.execute_reply": "2024-06-24T20:40:25.282909Z"
    },
    "papermill": {
     "duration": 0.36879,
     "end_time": "2024-06-24T20:40:25.286609",
     "exception": false,
     "start_time": "2024-06-24T20:40:24.917819",
     "status": "completed"
    },
    "tags": []
   },
   "outputs": [
    {
     "data": {
      "text/plain": [
       "Text(0.5, 1.0, 'Sample mean distribution for all users')"
      ]
     },
     "execution_count": 27,
     "metadata": {},
     "output_type": "execute_result"
    },
    {
     "data": {
      "image/png": "[encoded data removed]",
      "text/plain": [
       "<Figure size 432x288 with 1 Axes>"
      ]
     },
     "metadata": {
      "needs_background": "light"
     },
     "output_type": "display_data"
    }
   ],
   "source": [
    "f, ax = plt.subplots()\n",
    "# plt.figure(figsize=(20,5))\n",
    "sns.kdeplot(np.mean(control, axis=1), shade=True, label='control')\n",
    "sns.kdeplot(np.mean(variant, axis=1), shade=True, label='variant')\n",
    "plt.title('Sample mean distribution for all users')"
   ]
  },
  {
   "cell_type": "code",
   "execution_count": 28,
   "id": "f56c7899",
   "metadata": {
    "execution": {
     "iopub.execute_input": "2024-06-24T20:40:25.340049Z",
     "iopub.status.busy": "2024-06-24T20:40:25.339592Z",
     "iopub.status.idle": "2024-06-24T20:40:25.660834Z",
     "shell.execute_reply": "2024-06-24T20:40:25.659603Z"
    },
    "papermill": {
     "duration": 0.348929,
     "end_time": "2024-06-24T20:40:25.663623",
     "exception": false,
     "start_time": "2024-06-24T20:40:25.314694",
     "status": "completed"
    },
    "tags": []
   },
   "outputs": [
    {
     "data": {
      "text/plain": [
       "Text(0.5, 1.0, 'Sample mean distribution for paying users')"
      ]
     },
     "execution_count": 28,
     "metadata": {},
     "output_type": "execute_result"
    },
    {
     "data": {
      "image/png": "[encoded data removed]",
      "text/plain": [
       "<Figure size 432x288 with 1 Axes>"
      ]
     },
     "metadata": {
      "needs_background": "light"
     },
     "output_type": "display_data"
    }
   ],
   "source": [
    "f, ax = plt.subplots()\n",
    "# plt.figure(figsize=(20,5))\n",
    "sns.kdeplot(np.mean(control_paid, axis=1), shade=True, label='control')\n",
    "sns.kdeplot(np.mean(variant_paid, axis=1), shade=True, label='variant')\n",
    "plt.title('Sample mean distribution for paying users')"
   ]
  },
  {
   "cell_type": "code",
   "execution_count": 29,
   "id": "06b00eb7",
   "metadata": {
    "execution": {
     "iopub.execute_input": "2024-06-24T20:40:25.763199Z",
     "iopub.status.busy": "2024-06-24T20:40:25.762757Z",
     "iopub.status.idle": "2024-06-24T20:40:25.776002Z",
     "shell.execute_reply": "2024-06-24T20:40:25.774370Z"
    },
    "papermill": {
     "duration": 0.042025,
     "end_time": "2024-06-24T20:40:25.778787",
     "exception": false,
     "start_time": "2024-06-24T20:40:25.736762",
     "status": "completed"
    },
    "tags": []
   },
   "outputs": [],
   "source": [
    "def plot_distribution_and_stat_intervals(variant, control, title, alpha=0.05):\n",
    "    \"\"\" Plot the distribution of the mean difference and return the confidence intervals \"\"\"\n",
    "    f, ax = plt.subplots()\n",
    "    # get data for coloring confidence intervals\n",
    "    points = sns.kdeplot(variant - control, shade=False).get_lines()[0].get_data()\n",
    "    x = points[0]\n",
    "    y = points[1]\n",
    "    ymin, ymax = plt.ylim()\n",
    "    # highlight the zero value and the bounds of the confidence interval\n",
    "    plt.vlines(0, 0, ymax, label='0', color='gray')\n",
    "    plt.vlines(stat_intervals(variant - control, alpha)[0], 0, ymax, linestyles=\"dashed\")\n",
    "    plt.vlines(stat_intervals(variant - control, alpha)[1], 0, ymax, linestyles=\"dashed\")\n",
    "    # color the confidence interval and zones outside it\n",
    "    plt.fill_between(x,y,\n",
    "                     where = (x >= stat_intervals(variant - control, alpha)[1]),\n",
    "                     color='gainsboro')\n",
    "    plt.fill_between(x,y,\n",
    "                     where = (x <= stat_intervals(variant - control, alpha)[0]),\n",
    "                     color='gainsboro')\n",
    "    plt.fill_between(x,y,\n",
    "                     where = ((x >= stat_intervals(variant - control, alpha)[0])\n",
    "                              & (x <= stat_intervals(variant - control, alpha)[1])),\n",
    "                     color='red',\n",
    "                     label = '95% confidence interval')\n",
    "    plt.title(f'Distribution of difference between means (variant - control) {title}; {100*(1-alpha)}% Confidence interval for difference of means: {stat_intervals(variant - control, alpha)}')\n",
    "    plt.legend(prop={'size':13})\n",
    "    # return confidence interval data\n",
    "    return stat_intervals(variant - control)"
   ]
  },
  {
   "cell_type": "code",
   "execution_count": 30,
   "id": "57536387",
   "metadata": {
    "execution": {
     "iopub.execute_input": "2024-06-24T20:40:25.828545Z",
     "iopub.status.busy": "2024-06-24T20:40:25.828113Z",
     "iopub.status.idle": "2024-06-24T20:40:26.209348Z",
     "shell.execute_reply": "2024-06-24T20:40:26.208195Z"
    },
    "papermill": {
     "duration": 0.409209,
     "end_time": "2024-06-24T20:40:26.212015",
     "exception": false,
     "start_time": "2024-06-24T20:40:25.802806",
     "status": "completed"
    },
    "tags": []
   },
   "outputs": [
    {
     "data": {
      "text/plain": [
       "array([-0.06622252,  0.03008547])"
      ]
     },
     "execution_count": 30,
     "metadata": {},
     "output_type": "execute_result"
    },
    {
     "data": {
      "image/png": "[encoded data removed]",
      "text/plain": [
       "<Figure size 432x288 with 1 Axes>"
      ]
     },
     "metadata": {
      "needs_background": "light"
     },
     "output_type": "display_data"
    }
   ],
   "source": [
    "plot_distribution_and_stat_intervals(\n",
    "    np.mean(variant, axis=1), \n",
    "    np.mean(control, axis=1),\n",
    "    title='all users'\n",
    ")\n",
    "\n",
    "# f, ax = plt.subplots()\n",
    "# get data for coloring confidence intervals\n",
    "# points = sns.kdeplot(np.mean(variant, axis=1) - np.mean(control, axis=1), shade=True).get_lines()[0].get_data()\n",
    "# np.mean(variant, axis=1) - np.mean(control, axis=1)"
   ]
  },
  {
   "cell_type": "markdown",
   "id": "d06c6c90",
   "metadata": {
    "papermill": {
     "duration": 0.024837,
     "end_time": "2024-06-24T20:40:26.261675",
     "exception": false,
     "start_time": "2024-06-24T20:40:26.236838",
     "status": "completed"
    },
    "tags": []
   },
   "source": [
    "### Let's build a graph of the distribution of the difference in the means and get a confidence interval For all users"
   ]
  },
  {
   "cell_type": "code",
   "execution_count": 31,
   "id": "42811543",
   "metadata": {
    "execution": {
     "iopub.execute_input": "2024-06-24T20:40:26.314338Z",
     "iopub.status.busy": "2024-06-24T20:40:26.313919Z",
     "iopub.status.idle": "2024-06-24T20:40:26.641663Z",
     "shell.execute_reply": "2024-06-24T20:40:26.640264Z"
    },
    "papermill": {
     "duration": 0.357133,
     "end_time": "2024-06-24T20:40:26.644410",
     "exception": false,
     "start_time": "2024-06-24T20:40:26.287277",
     "status": "completed"
    },
    "scrolled": true,
    "tags": []
   },
   "outputs": [
    {
     "data": {
      "text/plain": [
       "array([-3.43661041,  2.1545734 ])"
      ]
     },
     "execution_count": 31,
     "metadata": {},
     "output_type": "execute_result"
    },
    {
     "data": {
      "image/png": "[encoded data removed]",
      "text/plain": [
       "<Figure size 432x288 with 1 Axes>"
      ]
     },
     "metadata": {
      "needs_background": "light"
     },
     "output_type": "display_data"
    }
   ],
   "source": [
    "plot_distribution_and_stat_intervals(\n",
    "    np.mean(variant_paid, axis=1), \n",
    "    np.mean(control_paid, axis=1), \n",
    "    title='paying users'\n",
    ")"
   ]
  },
  {
   "cell_type": "code",
   "execution_count": null,
   "id": "98e5f2a0",
   "metadata": {},
   "outputs": [],
   "source": []
  }
 ],
 "metadata": {
  "kaggle": {
   "accelerator": "none",
   "dataSources": [
    {
     "datasetId": 2479030,
     "sourceId": 4213024,
     "sourceType": "datasetVersion"
    }
   ],
   "dockerImageVersionId": 30235,
   "isGpuEnabled": false,
   "isInternetEnabled": true,
   "language": "python",
   "sourceType": "notebook"
  },
  "kernelspec": {
   "display_name": "Python 3 (ipykernel)",
   "language": "python",
   "name": "python3"
  },
  "language_info": {
   "codemirror_mode": {
    "name": "ipython",
    "version": 3
   },
   "file_extension": ".py",
   "mimetype": "text/x-python",
   "name": "python",
   "nbconvert_exporter": "python",
   "pygments_lexer": "ipython3",
   "version": "3.9.12"
  },
  "papermill": {
   "default_parameters": {},
   "duration": 19.634954,
   "end_time": "2024-06-24T20:40:27.594490",
   "environment_variables": {},
   "exception": null,
   "input_path": "__notebook__.ipynb",
   "output_path": "__notebook__.ipynb",
   "parameters": {},
   "start_time": "2024-06-24T20:40:07.959536",
   "version": "2.3.4"
  }
 },
 "nbformat": 4,
 "nbformat_minor": 5
}
